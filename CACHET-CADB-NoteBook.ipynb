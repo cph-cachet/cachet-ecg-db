{
 "cells": [
  {
   "cell_type": "code",
   "execution_count": 1,
   "metadata": {},
   "outputs": [],
   "source": [
    "import h5py\n",
    "import numpy as np\n",
    "\n",
    "from cachet_cadb_utils import read_annotations_and_load_correspondingECG, get_gender_and_age, \\\n",
    "    count_annotation_type_in_each_record, count_total,conver_hdf5_file_to_csv"
   ]
  },
  {
   "cell_type": "markdown",
   "metadata": {},
   "source": [
    "# Load Signal"
   ]
  },
  {
   "cell_type": "markdown",
   "metadata": {},
   "source": [
    "### Path of  raw ECG signal  and annotation folder after downlaoding the database"
   ]
  },
  {
   "cell_type": "code",
   "execution_count": 2,
   "metadata": {},
   "outputs": [],
   "source": [
    "path_of_annotations_folder = \"/Users/deku/Desktop/CACHET-AFDB/FINAL/annotations\"\n",
    "path_of_rawdata_folder = \"/Users/deku/Desktop/CACHET-AFDB/FINAL/signal\"\n"
   ]
  },
  {
   "cell_type": "markdown",
   "metadata": {},
   "source": [
    "#### Path of hdf5--- where  you want to  store the short version of the database with just ECG and annotation without context "
   ]
  },
  {
   "cell_type": "code",
   "execution_count": null,
   "metadata": {},
   "outputs": [],
   "source": [
    "cachet_cadb_without_context = \"/Users/deku/Desktop/CACHET-AFDB/FINAL/cachet-cadb_short_format_without_context.hdf5\""
   ]
  },
  {
   "cell_type": "markdown",
   "metadata": {},
   "source": [
    "#### Reads each annotations.csv, loads corresponding ECG and store the short version of database without context infromation in hdf5 file. This function will create a hdf5 contained \"signal\" and \"lables\" "
   ]
  },
  {
   "cell_type": "code",
   "execution_count": null,
   "metadata": {},
   "outputs": [],
   "source": [
    "\n",
    "read_annotations_and_load_correspondingECG(path_of_annotations_folder, path_of_rawdata_folder,cachet_cadb_without_context)"
   ]
  },
  {
   "cell_type": "markdown",
   "metadata": {},
   "source": [
    "#### Reading the hdf5 file  created by read_annotations_and_load_correspondingECG .  Both signal and labels are of equal length  array. Note: DB has sample frquency of 1024 Hz. labels: 1='AF', 2='NSR', 3='Noise', 4='Others'"
   ]
  },
  {
   "cell_type": "code",
   "execution_count": null,
   "metadata": {},
   "outputs": [],
   "source": [
    "#cachet_cadb_without_context ---whould be path of your hdf5 file\n",
    "\n",
    "with h5py.File(cachet_cadb_without_context, \"r\") as dset:\n",
    "        dset.keys()\n",
    "        signal = np.array( dset[\"signal\"])\n",
    "        labels = np.array(dset[\"labels\"])\n",
    "        print(dset.keys())\n"
   ]
  },
  {
   "cell_type": "markdown",
   "metadata": {},
   "source": [
    "### Convert CACHET-CADB hd5f file fromate  to csv file fomate. First create the  hd5f by running read_annotations_and_load_correspondingECG()"
   ]
  },
  {
   "cell_type": "code",
   "execution_count": null,
   "metadata": {},
   "outputs": [],
   "source": [
    "\n",
    "df = conver_hdf5_file_to_csv(cachet_cadb_without_context)\n",
    "print(df.shape)\n",
    "df.head()\n",
    "save_df_path = '/Users/deku/Desktop/CACHET-AFDB/FINAL/cachet-acdb_short_format_without_context.csv'\n",
    "df = conver_hdf5_file_to_csv(cachet_cadb_without_context)\n",
    "print(df.shape)\n",
    "df.head()\n",
    "save_df_path = '/Users/deku/Desktop/CACHET-AFDB/FINAL/cachet-acdb_short_format_without_context.csv'\n",
    "df.to_csv(save_df_path)"
   ]
  },
  {
   "cell_type": "markdown",
   "metadata": {},
   "source": [
    "# General statistsics abaout the database"
   ]
  },
  {
   "cell_type": "code",
   "execution_count": null,
   "metadata": {},
   "outputs": [],
   "source": [
    "get_gender_and_age(path_of_rawdata_folder)"
   ]
  },
  {
   "cell_type": "code",
   "execution_count": 3,
   "metadata": {},
   "outputs": [
    {
     "name": "stdout",
     "output_type": "stream",
     "text": [
      "['P4', 'P3', 'PNSR-4', 'PNSR-3', 'P2', 'P5', 'P19', 'P21', 'P17', 'P10', 'P11', 'P16', 'P18', 'P7', 'P9', 'P8', 'PNSR-1', 'P6', 'P1', 'P13', 'P14', 'P15', 'P12', 'P23']\n",
      "processing  subjectP4\n",
      " AF= 7\n",
      " NSR= 6\n",
      " Noise= 7\n",
      " Others= 0\n",
      "processing  subjectP3\n",
      " AF= 138\n",
      " NSR= 0\n",
      " Noise= 1\n",
      " Others= 0\n",
      "processing  subjectPNSR-4\n",
      " AF= 0\n",
      " NSR= 28\n",
      " Noise= 3\n",
      " Others= 0\n",
      "processing  subjectPNSR-3\n",
      " AF= 0\n",
      " NSR= 31\n",
      " Noise= 2\n",
      " Others= 0\n",
      "processing  subjectP2\n",
      " AF= 1\n",
      " NSR= 46\n",
      " Noise= 22\n",
      " Others= 1\n",
      "processing  subjectP5\n",
      " AF= 90\n",
      " NSR= 0\n",
      " Noise= 1\n",
      " Others= 0\n",
      "processing  subjectP19\n",
      " AF= 45\n",
      " NSR= 8\n",
      " Noise= 1\n",
      " Others= 0\n",
      "processing  subjectP21\n",
      " AF= 0\n",
      " NSR= 6\n",
      " Noise= 1\n",
      " Others= 3\n",
      "processing  subjectP17\n",
      " AF= 176\n",
      " NSR= 0\n",
      " Noise= 2\n",
      " Others= 0\n",
      "processing  subjectP10\n",
      " AF= 0\n",
      " NSR= 29\n",
      " Noise= 3\n",
      " Others= 0\n",
      "processing  subjectP11\n",
      " AF= 0\n",
      " NSR= 74\n",
      " Noise= 0\n",
      " Others= 1\n",
      "processing  subjectP16\n",
      " AF= 0\n",
      " NSR= 0\n",
      " Noise= 0\n",
      " Others= 0\n",
      "processing  subjectP18\n",
      " AF= 0\n",
      " NSR= 103\n",
      " Noise= 15\n",
      " Others= 0\n",
      "processing  subjectP7\n",
      " AF= 8\n",
      " NSR= 64\n",
      " Noise= 7\n",
      " Others= 3\n",
      "processing  subjectP9\n",
      " AF= 0\n",
      " NSR= 102\n",
      " Noise= 4\n",
      " Others= 1\n",
      "processing  subjectP8\n",
      " AF= 0\n",
      " NSR= 2\n",
      " Noise= 31\n",
      " Others= 0\n",
      "processing  subjectPNSR-1\n",
      " AF= 0\n",
      " NSR= 6\n",
      " Noise= 12\n",
      " Others= 0\n",
      "processing  subjectP6\n",
      " AF= 1\n",
      " NSR= 40\n",
      " Noise= 0\n",
      " Others= 3\n",
      "processing  subjectP1\n",
      " AF= 184\n",
      " NSR= 18\n",
      " Noise= 0\n",
      " Others= 6\n",
      "processing  subjectP13\n",
      " AF= 2\n",
      " NSR= 2\n",
      " Noise= 26\n",
      " Others= 1\n",
      "processing  subjectP14\n",
      " AF= 0\n",
      " NSR= 35\n",
      " Noise= 59\n",
      " Others= 0\n",
      "processing  subjectP15\n",
      " AF= 95\n",
      " NSR= 0\n",
      " Noise= 0\n",
      " Others= 0\n",
      "processing  subjectP12\n",
      " AF= 0\n",
      " NSR= 11\n",
      " Noise= 14\n",
      " Others= 0\n",
      "processing  subjectP23\n",
      " AF= 0\n",
      " NSR= 4\n",
      " Noise= 10\n",
      " Others= 0\n"
     ]
    }
   ],
   "source": [
    "#Count annotaion types in each record\n",
    "count_annotation_type_in_each_record(\"/Users/deku/Desktop/CACHET-AFDB/FINAL/annotations\")"
   ]
  },
  {
   "cell_type": "code",
   "execution_count": null,
   "metadata": {},
   "outputs": [],
   "source": [
    "#Count total number of ECG annotaion of each rythm type in the database \n",
    "count_total(\"/Users/deku/Desktop/CACHET-AFDB/FINAL/annotations\")"
   ]
  },
  {
   "cell_type": "code",
   "execution_count": null,
   "metadata": {},
   "outputs": [],
   "source": []
  },
  {
   "cell_type": "code",
   "execution_count": null,
   "metadata": {},
   "outputs": [],
   "source": []
  }
 ],
 "metadata": {
  "kernelspec": {
   "display_name": "Python 3",
   "language": "python",
   "name": "python3"
  },
  "language_info": {
   "codemirror_mode": {
    "name": "ipython",
    "version": 3
   },
   "file_extension": ".py",
   "mimetype": "text/x-python",
   "name": "python",
   "nbconvert_exporter": "python",
   "pygments_lexer": "ipython3",
   "version": "3.7.6"
  }
 },
 "nbformat": 4,
 "nbformat_minor": 4
}
